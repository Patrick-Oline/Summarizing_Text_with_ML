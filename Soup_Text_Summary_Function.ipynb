{
 "cells": [
  {
   "cell_type": "code",
   "execution_count": 1,
   "id": "3638849c",
   "metadata": {},
   "outputs": [
    {
     "name": "stderr",
     "output_type": "stream",
     "text": [
      "[nltk_data] Downloading package punkt to /Users/pat/nltk_data...\n",
      "[nltk_data]   Package punkt is already up-to-date!\n"
     ]
    }
   ],
   "source": [
    "import requests\n",
    "from bs4 import BeautifulSoup\n",
    "from selenium import webdriver\n",
    "import pandas as pd\n",
    "import numpy as np\n",
    "import nltk\n",
    "nltk.download('punkt')\n",
    "import re\n",
    "from nltk.tokenize import sent_tokenize\n",
    "from nltk.corpus import stopwords\n",
    "from sklearn.metrics.pairwise import cosine_similarity\n",
    "import networkx as nx"
   ]
  },
  {
   "cell_type": "code",
   "execution_count": 2,
   "id": "8332fc06",
   "metadata": {},
   "outputs": [],
   "source": [
    "def soup_text_summary(url, n):\n",
    "    res = requests.get(url)\n",
    "    html_page = res.content\n",
    "    \n",
    "    soup = BeautifulSoup(html_page, 'html.parser')\n",
    "    text = soup.find_all(text=True)\n",
    "    \n",
    "    output = ''\n",
    "    blacklist = ['[document]','abbr','b','bdi','body','button','caption','cite','div','footer','form','h2','head',\n",
    "             'header','html','i','input','label','li','main','nav','ol','script','small','span','style', 'td',\n",
    "             'th','title','tr','ul'\n",
    "            ]\n",
    "\n",
    "    for t in text:\n",
    "        if t.parent.name not in blacklist:\n",
    "            output += '{} '.format(t)\n",
    "    \n",
    "    output = output.replace(\"\\n\", '')\n",
    "    \n",
    "    sentences = []\n",
    "    sentences.append(sent_tokenize(output))\n",
    "    sentences = [y for x in sentences for y in x]\n",
    "    \n",
    "    word_embeddings = {}\n",
    "    f = open('glove.6B.100d.txt', encoding='utf-8')\n",
    "    for line in f:\n",
    "        values = line.split()\n",
    "        word = values[0]\n",
    "        coefs = np.asarray(values[1:], dtype='float32')\n",
    "        word_embeddings[word] = coefs\n",
    "    f.close()\n",
    "\n",
    "    clean_sentences = pd.Series(sentences).str.replace(\"[^a-zA-Z]\", \" \")\n",
    "    clean_sentences = [s.lower() for s in clean_sentences]\n",
    "    stop_words = stopwords.words('english')\n",
    "\n",
    "    def remove_stopwords(sen):\n",
    "        sen_new = \" \".join([i for i in sen if i not in stop_words])\n",
    "        return sen_new\n",
    "    \n",
    "    clean_sentences = [remove_stopwords(r.split()) for r in clean_sentences]\n",
    "    \n",
    "    sentence_vectors = []\n",
    "    for i in clean_sentences:\n",
    "        if len(i) != 0:\n",
    "            v = sum([word_embeddings.get(w, np.zeros((100,))) for w in i.split()])/(len(i.split())+0.001)\n",
    "        else:\n",
    "            v = np.zeros((100,))\n",
    "        sentence_vectors.append(v) \n",
    "    \n",
    "    sim_mat = np.zeros([len(sentences), len(sentences)])\n",
    "\n",
    "    for i in range(len(sentences)):\n",
    "        for j in range(len(sentences)):\n",
    "            if i != j:\n",
    "                sim_mat[i][j] = cosine_similarity(sentence_vectors[i].reshape(1,100), sentence_vectors[j].reshape(1,100))[0,0]\n",
    "    \n",
    "    nx_graph = nx.from_numpy_array(sim_mat)\n",
    "    scores = nx.pagerank(nx_graph) \n",
    "    \n",
    "    ranked_sentences = sorted(((scores[i],s) for i,s in enumerate(sentences)), reverse=True)\n",
    "    \n",
    "    print(\"TITLE:\")\n",
    "    print(soup.title.get_text())\n",
    "    print(\"\\n\")\n",
    "    print(\"SUMMARY:\")\n",
    "\n",
    "    for i in range(n):\n",
    "        print(ranked_sentences[i][1])\n",
    "    \n",
    "    \n",
    "\n"
   ]
  },
  {
   "cell_type": "code",
   "execution_count": 3,
   "id": "d69a4550",
   "metadata": {},
   "outputs": [],
   "source": [
    "url = 'https://www.espn.com/mlb/insider/story/_/id/35981176/opening-day-2023-pitch-clock-new-rules-revolutionize-mlb-season'"
   ]
  },
  {
   "cell_type": "code",
   "execution_count": 4,
   "id": "67014a70",
   "metadata": {},
   "outputs": [
    {
     "name": "stderr",
     "output_type": "stream",
     "text": [
      "<ipython-input-2-7dfc09a06a08>:6: DeprecationWarning: The 'text' argument to find()-type methods is deprecated. Use 'string' instead.\n",
      "  text = soup.find_all(text=True)\n",
      "<ipython-input-2-7dfc09a06a08>:33: FutureWarning: The default value of regex will change from True to False in a future version.\n",
      "  clean_sentences = pd.Series(sentences).str.replace(\"[^a-zA-Z]\", \" \")\n"
     ]
    },
    {
     "name": "stdout",
     "output_type": "stream",
     "text": [
      "TITLE:\n",
      "Opening Day 2023: How the pitch clock will revolutionize MLB\n",
      "\n",
      "\n",
      "SUMMARY:\n",
      "People inside the game of baseball love the pitch clock so far.\n",
      "And he worried that the drama baseball naturally produced -- the downtime between pitches that let the game breathe and infused late innings with tension -- would be lost, and with it would go baseball's soul, the element that makes it different from all the other sports.\n",
      "Just like everyone else in baseball, the 27-year-old left-hander has time at the forefront of his mind these days.\n",
      "Betting tips for the 2023 MLB season: futures A beginner's guide to betting the 2023 MLB season The poker game between Brazil, Real Madrid, Spurs, Ancelotti and Pochettino NWSL added VAR to fix referee problems, but its debut only added controversy The real winners and losers from the U.S.'s international break Walking the walk: Derrick James, Anthony Joshua's new trainer, has a special postfight tradition to enjoy success WrestleMania 39: How Cody Rhodes' departure and return to WWE changed an industry MLB season preview: Power Rankings, playoff odds and what you need to know for all 30 teams Arizona Diamondbacks From model franchise to scandals and ineptitude: Inside the fall of Dan Snyder's NFL run in Washington Washington Commanders What to watch for this week at the Augusta National Women's Amateur College softball rankings: The top 25 teams in the NCAA this week Messi passes 100 goals for Argentina: Here are 10 of his best LIVE Transfer Talk: Mount could reunite with Tuchel at Bayern Munich Roundtable: Which players should fantasy managers target for the playoffs?\n",
      "Major League Baseball saw game times swell beyond the modern appetite, with three-hour-plus affairs the norm.\n"
     ]
    }
   ],
   "source": [
    "soup_text_summary(url, 5)"
   ]
  },
  {
   "cell_type": "code",
   "execution_count": null,
   "id": "98175b47",
   "metadata": {},
   "outputs": [],
   "source": []
  }
 ],
 "metadata": {
  "kernelspec": {
   "display_name": "Python 3",
   "language": "python",
   "name": "python3"
  },
  "language_info": {
   "codemirror_mode": {
    "name": "ipython",
    "version": 3
   },
   "file_extension": ".py",
   "mimetype": "text/x-python",
   "name": "python",
   "nbconvert_exporter": "python",
   "pygments_lexer": "ipython3",
   "version": "3.8.16"
  }
 },
 "nbformat": 4,
 "nbformat_minor": 5
}
