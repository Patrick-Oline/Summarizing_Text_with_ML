{
 "cells": [
  {
   "cell_type": "markdown",
   "id": "f286854a",
   "metadata": {},
   "source": [
    "# Summarize Text with Machine Learning\n",
    "I will be using the extractive approach to summarize text using Machine Learning and Python. I will use the TextRank algorithm which is an extractive and unsupervised machine learning algorithm for text summarization."
   ]
  },
  {
   "cell_type": "code",
   "execution_count": 1,
   "id": "6436ac62",
   "metadata": {},
   "outputs": [
    {
     "name": "stderr",
     "output_type": "stream",
     "text": [
      "[nltk_data] Downloading package punkt to /Users/pat/nltk_data...\n",
      "[nltk_data]   Package punkt is already up-to-date!\n"
     ]
    }
   ],
   "source": [
    "import pandas as pd\n",
    "import numpy as np\n",
    "import nltk\n",
    "nltk.download('punkt')\n",
    "import re\n",
    "from nltk.corpus import stopwords"
   ]
  },
  {
   "cell_type": "code",
   "execution_count": 2,
   "id": "ae9adbe9",
   "metadata": {},
   "outputs": [
    {
     "data": {
      "text/html": [
       "<div>\n",
       "<style scoped>\n",
       "    .dataframe tbody tr th:only-of-type {\n",
       "        vertical-align: middle;\n",
       "    }\n",
       "\n",
       "    .dataframe tbody tr th {\n",
       "        vertical-align: top;\n",
       "    }\n",
       "\n",
       "    .dataframe thead th {\n",
       "        text-align: right;\n",
       "    }\n",
       "</style>\n",
       "<table border=\"1\" class=\"dataframe\">\n",
       "  <thead>\n",
       "    <tr style=\"text-align: right;\">\n",
       "      <th></th>\n",
       "      <th>article_id</th>\n",
       "      <th>article_text</th>\n",
       "      <th>source</th>\n",
       "    </tr>\n",
       "  </thead>\n",
       "  <tbody>\n",
       "    <tr>\n",
       "      <th>0</th>\n",
       "      <td>1</td>\n",
       "      <td>Maria Sharapova has basically no friends as te...</td>\n",
       "      <td>https://www.tennisworldusa.org/tennis/news/Mar...</td>\n",
       "    </tr>\n",
       "    <tr>\n",
       "      <th>1</th>\n",
       "      <td>2</td>\n",
       "      <td>BASEL, Switzerland (AP), Roger Federer advance...</td>\n",
       "      <td>http://www.tennis.com/pro-game/2018/10/copil-s...</td>\n",
       "    </tr>\n",
       "    <tr>\n",
       "      <th>2</th>\n",
       "      <td>3</td>\n",
       "      <td>Roger Federer has revealed that organisers of ...</td>\n",
       "      <td>https://scroll.in/field/899938/tennis-roger-fe...</td>\n",
       "    </tr>\n",
       "    <tr>\n",
       "      <th>3</th>\n",
       "      <td>4</td>\n",
       "      <td>Kei Nishikori will try to end his long losing ...</td>\n",
       "      <td>http://www.tennis.com/pro-game/2018/10/nishiko...</td>\n",
       "    </tr>\n",
       "    <tr>\n",
       "      <th>4</th>\n",
       "      <td>5</td>\n",
       "      <td>Federer, 37, first broke through on tour over ...</td>\n",
       "      <td>https://www.express.co.uk/sport/tennis/1036101...</td>\n",
       "    </tr>\n",
       "  </tbody>\n",
       "</table>\n",
       "</div>"
      ],
      "text/plain": [
       "   article_id                                       article_text  \\\n",
       "0           1  Maria Sharapova has basically no friends as te...   \n",
       "1           2  BASEL, Switzerland (AP), Roger Federer advance...   \n",
       "2           3  Roger Federer has revealed that organisers of ...   \n",
       "3           4  Kei Nishikori will try to end his long losing ...   \n",
       "4           5  Federer, 37, first broke through on tour over ...   \n",
       "\n",
       "                                              source  \n",
       "0  https://www.tennisworldusa.org/tennis/news/Mar...  \n",
       "1  http://www.tennis.com/pro-game/2018/10/copil-s...  \n",
       "2  https://scroll.in/field/899938/tennis-roger-fe...  \n",
       "3  http://www.tennis.com/pro-game/2018/10/nishiko...  \n",
       "4  https://www.express.co.uk/sport/tennis/1036101...  "
      ]
     },
     "execution_count": 2,
     "metadata": {},
     "output_type": "execute_result"
    }
   ],
   "source": [
    "df = pd.read_csv(\"tennis.csv\")\n",
    "df.head()"
   ]
  },
  {
   "cell_type": "code",
   "execution_count": 3,
   "id": "3f3a2e06",
   "metadata": {},
   "outputs": [
    {
     "data": {
      "text/plain": [
       "\"BASEL, Switzerland (AP), Roger Federer advanced to the 14th Swiss Indoors final of his career by beating seventh-seeded Daniil Medvedev 6-1, 6-4 on Saturday. Seeking a ninth title at his hometown event, and a 99th overall, Federer will play 93th-ranked Marius Copil on Sunday. Federer dominated the 20th-ranked Medvedev and had his first match-point chance to break serve again at 5-1. He then dropped his serve to love, and let another match point slip in Medvedev's next service game by netting a backhand. He clinched on his fourth chance when Medvedev netted from the baseline. Copil upset expectations of a Federer final against Alexander Zverev in a 6-3, 6-7 (6), 6-4 win over the fifth-ranked German in the earlier semifinal. The Romanian aims for a first title after arriving at Basel without a career win over a top-10 opponent. Copil has two after also beating No. 6 Marin Cilic in the second round. Copil fired 26 aces past Zverev and never dropped serve, clinching after 2 1/2 hours with a forehand volley winner to break Zverev for the second time in the semifinal. He came through two rounds of qualifying last weekend to reach the Basel main draw, including beating Zverev's older brother, Mischa. Federer had an easier time than in his only previous match against Medvedev, a three-setter at Shanghai two weeks ago.\""
      ]
     },
     "execution_count": 3,
     "metadata": {},
     "output_type": "execute_result"
    }
   ],
   "source": [
    "df['article_text'][1]"
   ]
  },
  {
   "cell_type": "code",
   "execution_count": 4,
   "id": "24ae204f",
   "metadata": {},
   "outputs": [],
   "source": [
    "# split the sequences into the data by tokenizing them using a list\n",
    "from nltk.tokenize import sent_tokenize\n",
    "\n",
    "sentences = []\n",
    "for s in df['article_text']:\n",
    "    sentences.append(sent_tokenize(s))\n",
    "\n",
    "sentences = [y for x in sentences for y in x]"
   ]
  },
  {
   "cell_type": "markdown",
   "id": "f4227049",
   "metadata": {},
   "source": [
    "# Use the Glove method for word representation \n",
    "An unsupervised learning algorithm developed by Stanford University to generate word integrations by aggregating the global word-to-word co-occurrence matrix from a corpus."
   ]
  },
  {
   "cell_type": "code",
   "execution_count": 5,
   "id": "c3cb95b2",
   "metadata": {},
   "outputs": [
    {
     "name": "stderr",
     "output_type": "stream",
     "text": [
      "<ipython-input-5-b3ccdb22200c>:10: FutureWarning: The default value of regex will change from True to False in a future version.\n",
      "  clean_sentences = pd.Series(sentences).str.replace(\"[^a-zA-Z]\", \" \")\n"
     ]
    }
   ],
   "source": [
    "word_embeddings = {}\n",
    "f = open('glove.6B.100d.txt', encoding='utf-8')\n",
    "for line in f:\n",
    "    values = line.split()\n",
    "    word = values[0]\n",
    "    coefs = np.asarray(values[1:], dtype='float32')\n",
    "    word_embeddings[word] = coefs\n",
    "f.close()\n",
    "\n",
    "clean_sentences = pd.Series(sentences).str.replace(\"[^a-zA-Z]\", \" \")\n",
    "clean_sentences = [s.lower() for s in clean_sentences]\n",
    "stop_words = stopwords.words('english')\n",
    "\n",
    "def remove_stopwords(sen):\n",
    "    sen_new = \" \".join([i for i in sen if i not in stop_words])\n",
    "    return sen_new\n",
    "clean_sentences = [remove_stopwords(r.split()) for r in clean_sentences]"
   ]
  },
  {
   "cell_type": "code",
   "execution_count": 6,
   "id": "8764a6ad",
   "metadata": {},
   "outputs": [],
   "source": [
    "# Create sentence vectors\n",
    "sentence_vectors = []\n",
    "for i in clean_sentences:\n",
    "    if len(i) != 0:\n",
    "        v = sum([word_embeddings.get(w, np.zeros((100,))) for w in i.split()])/(len(i.split())+0.001)\n",
    "    else:\n",
    "        v = np.zeros((100,))\n",
    "    sentence_vectors.append(v)"
   ]
  },
  {
   "cell_type": "markdown",
   "id": "f95f697d",
   "metadata": {},
   "source": [
    "# Finding Similarities to Summarize Text\n",
    "Find similarities between the sentences, and use the cosine similarity approach for this task."
   ]
  },
  {
   "cell_type": "code",
   "execution_count": 7,
   "id": "3bb7220e",
   "metadata": {},
   "outputs": [],
   "source": [
    "# Create an empty similarity matrix for this task and fill it with cosine similarities of sentences\n",
    "sim_mat = np.zeros([len(sentences), len(sentences)])\n",
    "\n",
    "from sklearn.metrics.pairwise import cosine_similarity\n",
    "\n",
    "for i in range(len(sentences)):\n",
    "    for j in range(len(sentences)):\n",
    "        if i != j:\n",
    "            sim_mat[i][j] = cosine_similarity(sentence_vectors[i].reshape(1,100), sentence_vectors[j].reshape(1,100))[0,0]"
   ]
  },
  {
   "cell_type": "code",
   "execution_count": 8,
   "id": "b5ac68a5",
   "metadata": {},
   "outputs": [],
   "source": [
    "# convert the sim_mat similarity matrix into the graph \n",
    "# the nodes in this graph will represent the sentences \n",
    "# the edges will represent the similarity scores between the sentences\n",
    "\n",
    "import networkx as nx\n",
    "\n",
    "nx_graph = nx.from_numpy_array(sim_mat)\n",
    "scores = nx.pagerank(nx_graph)"
   ]
  },
  {
   "cell_type": "markdown",
   "id": "5f4b76e5",
   "metadata": {},
   "source": [
    "# Summarizing text"
   ]
  },
  {
   "cell_type": "code",
   "execution_count": 9,
   "id": "c56d3a1b",
   "metadata": {},
   "outputs": [
    {
     "name": "stdout",
     "output_type": "stream",
     "text": [
      "ARTICLE:\n",
      "Maria Sharapova has basically no friends as tennis players on the WTA Tour. The Russian player has no problems in openly speaking about it and in a recent interview she said: 'I don't really hide any feelings too much. I think everyone knows this is my job here. When I'm on the courts or when I'm on the court playing, I'm a competitor and I want to beat every single person whether they're in the locker room or across the net.So I'm not the one to strike up a conversation about the weather and know that in the next few minutes I have to go and try to win a tennis match. I'm a pretty competitive girl. I say my hellos, but I'm not sending any players flowers as well. Uhm, I'm not really friendly or close to many players. I have not a lot of friends away from the courts.' When she said she is not really close to a lot of players, is that something strategic that she is doing? Is it different on the men's tour than the women's tour? 'No, not at all. I think just because you're in the same sport doesn't mean that you have to be friends with everyone just because you're categorized, you're a tennis player, so you're going to get along with tennis players. I think every person has different interests. I have friends that have completely different jobs and interests, and I've met them in very different parts of my life. I think everyone just thinks because we're tennis players we should be the greatest of friends. But ultimately tennis is just a very small part of what we do. There are so many other things that we're interested in, that we do.'\n",
      "\n",
      "\n",
      "SUMMARY:\n",
      "When I'm on the courts or when I'm on the court playing, I'm a competitor and I want to beat every single person whether they're in the locker room or across the net.So I'm not the one to strike up a conversation about the weather and know that in the next few minutes I have to go and try to win a tennis match.\n",
      "\n",
      "\n",
      "ARTICLE:\n",
      "BASEL, Switzerland (AP), Roger Federer advanced to the 14th Swiss Indoors final of his career by beating seventh-seeded Daniil Medvedev 6-1, 6-4 on Saturday. Seeking a ninth title at his hometown event, and a 99th overall, Federer will play 93th-ranked Marius Copil on Sunday. Federer dominated the 20th-ranked Medvedev and had his first match-point chance to break serve again at 5-1. He then dropped his serve to love, and let another match point slip in Medvedev's next service game by netting a backhand. He clinched on his fourth chance when Medvedev netted from the baseline. Copil upset expectations of a Federer final against Alexander Zverev in a 6-3, 6-7 (6), 6-4 win over the fifth-ranked German in the earlier semifinal. The Romanian aims for a first title after arriving at Basel without a career win over a top-10 opponent. Copil has two after also beating No. 6 Marin Cilic in the second round. Copil fired 26 aces past Zverev and never dropped serve, clinching after 2 1/2 hours with a forehand volley winner to break Zverev for the second time in the semifinal. He came through two rounds of qualifying last weekend to reach the Basel main draw, including beating Zverev's older brother, Mischa. Federer had an easier time than in his only previous match against Medvedev, a three-setter at Shanghai two weeks ago.\n",
      "\n",
      "\n",
      "SUMMARY:\n",
      "Major players feel that a big event in late November combined with one in January before the Australian Open will mean too much tennis and too little rest.\n",
      "\n",
      "\n",
      "ARTICLE:\n",
      "Roger Federer has revealed that organisers of the re-launched and condensed Davis Cup gave him three days to decide if he would commit to the controversial competition. Speaking at the Swiss Indoors tournament where he will play in Sundays final against Romanian qualifier Marius Copil, the world number three said that given the impossibly short time frame to make a decision, he opted out of any commitment. \"They only left me three days to decide\", Federer said. \"I didn't to have time to consult with all the people I had to consult. \"I could not make a decision in that time, so I told them to do what they wanted.\" The 20-time Grand Slam champion has voiced doubts about the wisdom of the one-week format to be introduced by organisers Kosmos, who have promised the International Tennis Federation up to $3 billion in prize money over the next quarter-century. The competition is set to feature 18 countries in the November 18-24 finals in Madrid next year, and will replace the classic home-and-away ties played four times per year for decades. Kosmos is headed by Barcelona footballer Gerard Pique, who is hoping fellow Spaniard Rafael Nadal will play in the upcoming event. Novak Djokovic has said he will give precedence to the ATP's intended re-launch of the defunct World Team Cup in January 2020, at various Australian venues. Major players feel that a big event in late November combined with one in January before the Australian Open will mean too much tennis and too little rest. Federer said earlier this month in Shanghai in that his chances of playing the Davis Cup were all but non-existent. \"I highly doubt it, of course. We will see what happens,\" he said. \"I do not think this was designed for me, anyhow. This was designed for the future generation of players.\" Argentina and Britain received wild cards to the new-look event, and will compete along with the four 2018 semi-finalists and the 12 teams who win qualifying rounds next February. \"I don't like being under that kind of pressure,\" Federer said of the deadline Kosmos handed him.\n",
      "\n",
      "\n",
      "SUMMARY:\n",
      "Speaking at the Swiss Indoors tournament where he will play in Sundays final against Romanian qualifier Marius Copil, the world number three said that given the impossibly short time frame to make a decision, he opted out of any commitment.\n",
      "\n",
      "\n",
      "ARTICLE:\n",
      "Kei Nishikori will try to end his long losing streak in ATP finals and Kevin Anderson will go for his second title of the year at the Erste Bank Open on Sunday. The fifth-seeded Nishikori reached his third final of 2018 after beating Mikhail Kukushkin of Kazakhstan 6-4, 6-3 in the semifinals. A winner of 11 ATP events, Nishikori hasn't triumphed since winning in Memphis in February 2016. He has lost eight straight finals since. The second-seeded Anderson defeated Fernando Verdasco 6-3, 3-6, 6-4. Anderson has a shot at a fifth career title and second of the year after winning in New York in February. Nishikori leads Anderson 4-2 on career matchups, but the South African won their only previous meeting this year. With a victory on Sunday, Anderson will qualify for the ATP Finals. Currently in ninth place, Nishikori with a win could move to within 125 points of the cut for the eight-man event in London next month. Nishikori held serve throughout against Kukushkin, who came through qualifying. He used his first break point to close out the first set before going up 3-0 in the second and wrapping up the win on his first match point. Against Verdasco, Anderson hit nine of his 19 aces in the opening set. The Spaniard broke Anderson twice in the second but didn't get another chance on the South African's serve in the final set.\n",
      "\n",
      "\n",
      "SUMMARY:\n",
      "\"I felt like the best weeks that I had to get to know players when I was playing were the Fed Cup weeks or the Olympic weeks, not necessarily during the tournaments.\n",
      "\n",
      "\n",
      "ARTICLE:\n",
      "Federer, 37, first broke through on tour over two decades ago and he has since gone on to enjoy a glittering career. The 20-time Grand Slam winner is chasing his 99th ATP title at the Swiss Indoors this week and he faces Jan-Lennard Struff in the second round on Thursday (6pm BST). Davenport enjoyed most of her success in the late 1990s and her third and final major tournament win came at the 2000 Australian Open. But she claims the mentality of professional tennis players slowly began to change after the new millennium. \"It seems pretty friendly right now,\" said Davenport. \"I think there is a really nice environment and a great atmosphere, especially between some of the veteran players helping some of the younger players out. \"It's a very pleasant atmosphere, I'd have to say, around the locker rooms. \"I felt like the best weeks that I had to get to know players when I was playing were the Fed Cup weeks or the Olympic weeks, not necessarily during the tournaments. \"And even though maybe we had smaller teams, I still think we kept to ourselves quite a bit. \"Not always, but I really feel like in the mid-2000 years there was a huge shift of the attitudes of the top players and being more friendly and being more giving, and a lot of that had to do with players like Roger coming up. \"I just felt like it really kind of changed where people were a little bit, definitely in the 90s, a lot more quiet, into themselves, and then it started to become better.\" Meanwhile, Federer is hoping he can improve his service game as he hunts his ninth Swiss Indoors title this week. \"I didn't serve very well [against first-round opponent Filip Kranjovic,\" Federer said. \"I think I was misfiring the corners, I was not hitting the lines enough. \"Clearly you make your life more difficult, but still I was up 6-2, 3-1, break points, so things could have ended very quickly today, even though I didn't have the best serve percentage stats. \"But maybe that's exactly what caught up to me eventually. It's just getting used to it. This is where the first rounds can be tricky.\"\n",
      "\n",
      "\n",
      "SUMMARY:\n",
      "Currently in ninth place, Nishikori with a win could move to within 125 points of the cut for the eight-man event in London next month.\n",
      "\n",
      "\n"
     ]
    }
   ],
   "source": [
    "ranked_sentences = sorted(((scores[i],s) for i,s in enumerate(sentences)), reverse=True)\n",
    "for i in range(5):\n",
    "    print(\"ARTICLE:\")\n",
    "    print(df['article_text'][i])\n",
    "    print('\\n')\n",
    "    print(\"SUMMARY:\")\n",
    "    print(ranked_sentences[i][1])\n",
    "    print('\\n')"
   ]
  },
  {
   "cell_type": "markdown",
   "id": "f847ed71",
   "metadata": {},
   "source": [
    "# More Samples"
   ]
  },
  {
   "cell_type": "code",
   "execution_count": 10,
   "id": "60076d04",
   "metadata": {},
   "outputs": [],
   "source": [
    "text = '''The full schedule for the 2023 Major League Baseball season has been released. We already had a decent idea of the general outline, but it's always nice to get the details. \n",
    "\n",
    "Before even diving into the specifics on a team level, the biggest thing to discuss is the change in the shape of the schedule, so to speak. Instead of a schedule incredibly heavy on divisional matchups, it'll be much more balanced now. Check it out: \n",
    "\n",
    "Teams had been playing 76 in-division games. That total is now down to 52 (13 games and four series against each foe). \n",
    "Non-divisional intraleague games (for example, NL East vs. NL Central) is now a tidy 64 (32 home and 32 away) instead of 66. Each team will have seven games against four chosen opponents and six games against the other six teams fitting this criteria. \n",
    "Interleague play gets the massive increase. There used to be 20 of these games and now each team has 46. This includes a home-and-home series between \"natural rivals\" and then one series (seven home, seven road for each team) against the remaining 14 teams in the other league. \n",
    "Got all that? Good! Now onto the team specifics. \n",
    "'''"
   ]
  },
  {
   "cell_type": "code",
   "execution_count": 11,
   "id": "7287e17a",
   "metadata": {},
   "outputs": [],
   "source": [
    "sentences2 = []\n",
    "sentences2.append(sent_tokenize(text))\n",
    "\n",
    "sentences2 = [y for x in sentences2 for y in x]"
   ]
  },
  {
   "cell_type": "code",
   "execution_count": 12,
   "id": "bf0dec02",
   "metadata": {
    "scrolled": true
   },
   "outputs": [
    {
     "name": "stderr",
     "output_type": "stream",
     "text": [
      "<ipython-input-12-39a7638cbae9>:10: FutureWarning: The default value of regex will change from True to False in a future version.\n",
      "  clean_sentences2 = pd.Series(sentences2).str.replace(\"[^a-zA-Z]\", \" \")\n"
     ]
    }
   ],
   "source": [
    "word_embeddings2 = {}\n",
    "f = open('glove.6B.100d.txt', encoding='utf-8')\n",
    "for line in f:\n",
    "    values = line.split()\n",
    "    word = values[0]\n",
    "    coefs = np.asarray(values[1:], dtype='float32')\n",
    "    word_embeddings2[word] = coefs\n",
    "f.close()\n",
    "\n",
    "clean_sentences2 = pd.Series(sentences2).str.replace(\"[^a-zA-Z]\", \" \")\n",
    "clean_sentences2 = [s.lower() for s in clean_sentences2]\n",
    "stop_words = stopwords.words('english')\n",
    "\n",
    "def remove_stopwords(sen):\n",
    "    sen_new = \" \".join([i for i in sen if i not in stop_words])\n",
    "    return sen_new\n",
    "clean_sentences2 = [remove_stopwords(r.split()) for r in clean_sentences2]"
   ]
  },
  {
   "cell_type": "code",
   "execution_count": 13,
   "id": "93aa0934",
   "metadata": {},
   "outputs": [],
   "source": [
    "# Create sentence vectors\n",
    "sentence_vectors2 = []\n",
    "for i in clean_sentences2:\n",
    "    if len(i) != 0:\n",
    "        v = sum([word_embeddings2.get(w, np.zeros((100,))) for w in i.split()])/(len(i.split())+0.001)\n",
    "    else:\n",
    "        v = np.zeros((100,))\n",
    "    sentence_vectors2.append(v)"
   ]
  },
  {
   "cell_type": "code",
   "execution_count": 14,
   "id": "f7340b95",
   "metadata": {},
   "outputs": [],
   "source": [
    "# Create an empty similarity matrix for this task and fill it with cosine similarities of sentences\n",
    "sim_mat2 = np.zeros([len(sentences2), len(sentences2)])\n",
    "\n",
    "from sklearn.metrics.pairwise import cosine_similarity\n",
    "\n",
    "for i in range(len(sentences2)):\n",
    "    for j in range(len(sentences2)):\n",
    "        if i != j:\n",
    "            sim_mat2[i][j] = cosine_similarity(sentence_vectors2[i].reshape(1,100), sentence_vectors2[j].reshape(1,100))[0,0]"
   ]
  },
  {
   "cell_type": "code",
   "execution_count": 15,
   "id": "0230d5f8",
   "metadata": {},
   "outputs": [],
   "source": [
    "nx_graph = nx.from_numpy_array(sim_mat2)\n",
    "scores2 = nx.pagerank(nx_graph)"
   ]
  },
  {
   "cell_type": "code",
   "execution_count": 16,
   "id": "a4f89860",
   "metadata": {},
   "outputs": [
    {
     "name": "stdout",
     "output_type": "stream",
     "text": [
      "SUMMARY:\n",
      "This includes a home-and-home series between \"natural rivals\" and then one series (seven home, seven road for each team) against the remaining 14 teams in the other league.\n",
      "Each team will have seven games against four chosen opponents and six games against the other six teams fitting this criteria.\n",
      "The full schedule for the 2023 Major League Baseball season has been released.\n",
      "Before even diving into the specifics on a team level, the biggest thing to discuss is the change in the shape of the schedule, so to speak.\n",
      "Check it out: \n",
      "\n",
      "Teams had been playing 76 in-division games.\n"
     ]
    }
   ],
   "source": [
    "ranked_sentences2 = sorted(((scores2[i],s) for i,s in enumerate(sentences2)), reverse=True)\n",
    "\n",
    "print(\"SUMMARY:\")\n",
    "\n",
    "for i in range(5):\n",
    "    print(ranked_sentences2[i][1])"
   ]
  },
  {
   "cell_type": "markdown",
   "id": "8e2f80bd",
   "metadata": {},
   "source": [
    "# Writing Summarization Function"
   ]
  },
  {
   "cell_type": "code",
   "execution_count": 17,
   "id": "70bccd62",
   "metadata": {},
   "outputs": [],
   "source": [
    "def remove_stopwords(sen):\n",
    "    sen_new = \" \".join([i for i in sen if i not in stop_words])\n",
    "    return sen_new\n",
    "\n",
    "def summary(text):\n",
    "    sentences = []\n",
    "    sentences.append(sent_tokenize(text))\n",
    "    sentences = [y for x in sentences for y in x]\n",
    "    \n",
    "    word_embeddings = {}\n",
    "    f = open('glove.6B.100d.txt', encoding='utf-8')\n",
    "    for line in f:\n",
    "        values = line.split()\n",
    "        word = values[0]\n",
    "        coefs = np.asarray(values[1:], dtype='float32')\n",
    "        word_embeddings[word] = coefs\n",
    "    f.close()\n",
    "\n",
    "    clean_sentences = pd.Series(sentences).str.replace(\"[^a-zA-Z]\", \" \")\n",
    "    clean_sentences = [s.lower() for s in clean_sentences]\n",
    "    stop_words = stopwords.words('english')\n",
    "\n",
    "    clean_sentences = [remove_stopwords(r.split()) for r in clean_sentences]\n",
    "    \n",
    "    sentence_vectors = []\n",
    "    for i in clean_sentences:\n",
    "        if len(i) != 0:\n",
    "            v = sum([word_embeddings.get(w, np.zeros((100,))) for w in i.split()])/(len(i.split())+0.001)\n",
    "        else:\n",
    "            v = np.zeros((100,))\n",
    "        sentence_vectors.append(v) \n",
    "    \n",
    "    sim_mat = np.zeros([len(sentences), len(sentences)])\n",
    "\n",
    "    from sklearn.metrics.pairwise import cosine_similarity\n",
    "\n",
    "    for i in range(len(sentences)):\n",
    "        for j in range(len(sentences)):\n",
    "            if i != j:\n",
    "                sim_mat[i][j] = cosine_similarity(sentence_vectors[i].reshape(1,100), sentence_vectors[j].reshape(1,100))[0,0]\n",
    "    \n",
    "    nx_graph = nx.from_numpy_array(sim_mat)\n",
    "    scores = nx.pagerank(nx_graph) \n",
    "    \n",
    "    ranked_sentences = sorted(((scores[i],s) for i,s in enumerate(sentences)), reverse=True)\n",
    "    print(\"SUMMARY:\")\n",
    "\n",
    "    for i in range(5):\n",
    "        print(ranked_sentences[i][1])\n",
    "    \n",
    "            "
   ]
  },
  {
   "cell_type": "code",
   "execution_count": 18,
   "id": "62f41680",
   "metadata": {},
   "outputs": [
    {
     "name": "stdout",
     "output_type": "stream",
     "text": [
      "SUMMARY:\n",
      "This includes a home-and-home series between \"natural rivals\" and then one series (seven home, seven road for each team) against the remaining 14 teams in the other league.\n",
      "Each team will have seven games against four chosen opponents and six games against the other six teams fitting this criteria.\n",
      "The full schedule for the 2023 Major League Baseball season has been released.\n",
      "Before even diving into the specifics on a team level, the biggest thing to discuss is the change in the shape of the schedule, so to speak.\n",
      "Check it out: \n",
      "\n",
      "Teams had been playing 76 in-division games.\n"
     ]
    },
    {
     "name": "stderr",
     "output_type": "stream",
     "text": [
      "<ipython-input-17-3474555146ba>:19: FutureWarning: The default value of regex will change from True to False in a future version.\n",
      "  clean_sentences = pd.Series(sentences).str.replace(\"[^a-zA-Z]\", \" \")\n"
     ]
    }
   ],
   "source": [
    "summary(text)"
   ]
  },
  {
   "cell_type": "code",
   "execution_count": 19,
   "id": "1352da47",
   "metadata": {},
   "outputs": [],
   "source": [
    "text2 = '''\n",
    "Opening Day for the 2023 MLB season is so close that we can taste it.\n",
    "(Mmm, delicious, preposterously overpriced hot dogs and beers.)\n",
    "But while we put our final bows on spring training, there's a little time left to bet on preseason win totals.\n",
    "Hurry up, though. The pitch clock is ticking.\n",
    "For what it's worth, betting win totals is fun but tricky and probably ill-advised. One or two injuries can derail an entire campaign, and for some teams, it all boils down to whether they can win a potentially meaningless series at the end of the season.\n",
    "Nevertheless, I've talked myself into all six of these being wise investments.\n",
    "The Options: Baltimore (76.5), Boston (78.5), New York (93.5), Tampa Bay (88.5), Toronto (91.5)\n",
    "The Pick: New York Yankees over 93.5 wins\n",
    "It's hard to fathom why the Yankees' win total is this low.\n",
    "Excluding the 60-game 2020 season, the Yankees have won at least 99 games in three of the past four years. If you want to go back further than that, they've won at least 94 games in 17 out of 25 (non-pandemic) seasons dating back to 1997.\n",
    "Then there's the new schedule, where instead of 76 games against the best division in baseball*, the Yankees only need to deal with their AL East rivals a combined 52 times. In place of 12 postseason-caliber games against the Rays and Blue Jays, they'll get three-game series against each of Arizona, Colorado, Miami and Washington that weren't on the schedule in 2022.\n",
    "That's a pretty sweet trade-off for \"Yankees over 93.5 wins\" bettors.\n",
    "The only way this line should be this low is if you believe the Yankees are going to be at least six wins worse than they were last season. While that certainly could be the case, what's the justification for taking that stance?\n",
    "Once Carlos Rodón gets healthy, he'll be an upgrade over Jameson Taillon in what might be the best starting rotation in baseball. They didn't add any hitters via free agency, but they also didn't lose any of last year's nine leaders in plate appearances. They also figure to get much more this season out of Oswaldo Cabrera and soon-to-be rookie sensation Anthony Volpe.\n",
    "Unless Aaron Judge has just a disastrous \"falling back to earth\" 2023 campaign, the Yankees should win at least 100 games.\n",
    "'''"
   ]
  },
  {
   "cell_type": "code",
   "execution_count": 20,
   "id": "0a4f5a24",
   "metadata": {},
   "outputs": [
    {
     "name": "stdout",
     "output_type": "stream",
     "text": [
      "SUMMARY:\n",
      "The only way this line should be this low is if you believe the Yankees are going to be at least six wins worse than they were last season.\n",
      "Unless Aaron Judge has just a disastrous \"falling back to earth\" 2023 campaign, the Yankees should win at least 100 games.\n",
      "If you want to go back further than that, they've won at least 94 games in 17 out of 25 (non-pandemic) seasons dating back to 1997.\n",
      "Then there's the new schedule, where instead of 76 games against the best division in baseball*, the Yankees only need to deal with their AL East rivals a combined 52 times.\n",
      "They didn't add any hitters via free agency, but they also didn't lose any of last year's nine leaders in plate appearances.\n"
     ]
    },
    {
     "name": "stderr",
     "output_type": "stream",
     "text": [
      "<ipython-input-17-3474555146ba>:19: FutureWarning: The default value of regex will change from True to False in a future version.\n",
      "  clean_sentences = pd.Series(sentences).str.replace(\"[^a-zA-Z]\", \" \")\n"
     ]
    }
   ],
   "source": [
    "summary(text2)"
   ]
  },
  {
   "cell_type": "code",
   "execution_count": 21,
   "id": "2cf0196f",
   "metadata": {},
   "outputs": [],
   "source": [
    "# text is the article you wish to summarize\n",
    "# n is how many sentences, top ranked to \"nth\" ranked\n",
    "def summary_n(text,n):\n",
    "    sentences = []\n",
    "    sentences.append(sent_tokenize(text))\n",
    "    sentences = [y for x in sentences for y in x]\n",
    "    \n",
    "    word_embeddings = {}\n",
    "    f = open('glove.6B.100d.txt', encoding='utf-8')\n",
    "    for line in f:\n",
    "        values = line.split()\n",
    "        word = values[0]\n",
    "        coefs = np.asarray(values[1:], dtype='float32')\n",
    "        word_embeddings[word] = coefs\n",
    "    f.close()\n",
    "\n",
    "    clean_sentences = pd.Series(sentences).str.replace(\"[^a-zA-Z]\", \" \")\n",
    "    clean_sentences = [s.lower() for s in clean_sentences]\n",
    "    stop_words = stopwords.words('english')\n",
    "\n",
    "    def remove_stopwords(sen):\n",
    "        sen_new = \" \".join([i for i in sen if i not in stop_words])\n",
    "        return sen_new\n",
    "    \n",
    "    clean_sentences = [remove_stopwords(r.split()) for r in clean_sentences]\n",
    "    \n",
    "    sentence_vectors = []\n",
    "    for i in clean_sentences:\n",
    "        if len(i) != 0:\n",
    "            v = sum([word_embeddings.get(w, np.zeros((100,))) for w in i.split()])/(len(i.split())+0.001)\n",
    "        else:\n",
    "            v = np.zeros((100,))\n",
    "        sentence_vectors.append(v) \n",
    "    \n",
    "    sim_mat = np.zeros([len(sentences), len(sentences)])\n",
    "\n",
    "    from sklearn.metrics.pairwise import cosine_similarity\n",
    "\n",
    "    for i in range(len(sentences)):\n",
    "        for j in range(len(sentences)):\n",
    "            if i != j:\n",
    "                sim_mat[i][j] = cosine_similarity(sentence_vectors[i].reshape(1,100), sentence_vectors[j].reshape(1,100))[0,0]\n",
    "    \n",
    "    nx_graph = nx.from_numpy_array(sim_mat)\n",
    "    scores = nx.pagerank(nx_graph) \n",
    "    \n",
    "    ranked_sentences = sorted(((scores[i],s) for i,s in enumerate(sentences)), reverse=True)\n",
    "    \n",
    "    # print(\"Title:\")\n",
    "    # print(soup.title.get_text())\n",
    "    # print('\\n')\n",
    "    \n",
    "    print(\"SUMMARY:\")\n",
    "\n",
    "    for i in range(n):\n",
    "        print(ranked_sentences[i][1])"
   ]
  },
  {
   "cell_type": "code",
   "execution_count": 22,
   "id": "79c6fb22",
   "metadata": {},
   "outputs": [
    {
     "name": "stdout",
     "output_type": "stream",
     "text": [
      "SUMMARY:\n",
      "The only way this line should be this low is if you believe the Yankees are going to be at least six wins worse than they were last season.\n",
      "Unless Aaron Judge has just a disastrous \"falling back to earth\" 2023 campaign, the Yankees should win at least 100 games.\n",
      "If you want to go back further than that, they've won at least 94 games in 17 out of 25 (non-pandemic) seasons dating back to 1997.\n",
      "Then there's the new schedule, where instead of 76 games against the best division in baseball*, the Yankees only need to deal with their AL East rivals a combined 52 times.\n",
      "They didn't add any hitters via free agency, but they also didn't lose any of last year's nine leaders in plate appearances.\n",
      "But while we put our final bows on spring training, there's a little time left to bet on preseason win totals.\n",
      "One or two injuries can derail an entire campaign, and for some teams, it all boils down to whether they can win a potentially meaningless series at the end of the season.\n"
     ]
    },
    {
     "name": "stderr",
     "output_type": "stream",
     "text": [
      "<ipython-input-21-b49082471f61>:17: FutureWarning: The default value of regex will change from True to False in a future version.\n",
      "  clean_sentences = pd.Series(sentences).str.replace(\"[^a-zA-Z]\", \" \")\n"
     ]
    }
   ],
   "source": [
    "summary_n(text2, 7)"
   ]
  },
  {
   "cell_type": "code",
   "execution_count": 23,
   "id": "ea52fedf",
   "metadata": {},
   "outputs": [],
   "source": [
    "text_new = '''\n",
    "        data-uri=\"archive.cms.cnn.com/_components/meta-url/instances/meta_h_3a71bf5c65e7a08f53e2be2453b538db@published\"         data-uri=\"archive.cms.cnn.com/_components/meta-hreflang/instances/meta_h_3a71bf5c65e7a08f53e2be2453b538db@published\"        data-uri=\"archive.cms.cnn.com/_components/meta-keywords/instances/meta_h_3a71bf5c65e7a08f53e2be2453b538db@published\"      data-uri=\"archive.cms.cnn.com/_components/meta-authors/instances/meta_h_3a71bf5c65e7a08f53e2be2453b538db@published\"     data-uri=\"archive.cms.cnn.com/_components/meta-robots/instances/meta_h_3a71bf5c65e7a08f53e2be2453b538db@published\"     data-uri=\"archive.cms.cnn.com/_components/schema-org-data/instances/h_3a71bf5c65e7a08f53e2be2453b538db@published\"     data-editable-end    data-editable=\"headLayout\"    data-uri=\"archive.cms.cnn.com/_components/external-scripts/instances/article-with-ads-v1@published\"                                         data-uri=\"archive.cms.cnn.com/_components/meta-site/instances/us-v1@published\"        data-uri=\"archive.cms.cnn.com/_components/meta-icons/instances/cnn-v1@published\"     data-uri=\"archive.cms.cnn.com/_components/ad-config/instances/cnn-article-v1@published\"    data-uri=\"archive.cms.cnn.com/_components/analytics-optimizely/instances/default-v1@published\"       data-editable-end   CNN values your feedback                                         Crime + Justice                                                     Energy + Environment                                                     Extreme Weather                                                     Space + Science                                   More                                     Crime + Justice                                       Energy + Environment                                       Extreme Weather                                       Space + Science                               Audio                       Live TV                     Settings                   Log Out                   Settings                   Log Out                     Live TV                       Audio                             US                                   International                                   Arabic                                   Español                                   US                                   International                                   Arabic                                   Español                                   Crime + Justice                                   Energy + Environment                                   Extreme Weather                                   Space + Science                               US                   Crime + Justice                       Energy + Environment                       Extreme Weather                       Space + Science                   World                   Africa                       Americas                       Asia                       Australia                       China                       Europe                       India                       Middle East                       United Kingdom                   Politics                   SCOTUS                       Congress                       Facts First                       2020 Election                   Business                   Tech                       Media                       Success                       Perspectives                       Video                   Markets                   Pre-markets                       After-Hours                       Market Movers                       Fear & Greed                       World Markets                       Investing                       Markets Now                       Before the Bell                       Nightcap                   Opinion                   Political Op-Eds                       Social Commentary                   Health                   Life, But Better                       Fitness                       Food                       Sleep                       Mindfulness                       Relationships                   Entertainment                   Movies                       Television                       Celebrity                   Tech                   Innovate                       Gadget                       Foreseeable Future                       Mission: Ahead                       Upstarts                       Work Transformed                       Innovative Cities                   Style                   Arts                       Design                       Fashion                       Architecture                       Luxury                       Beauty                       Video                   Travel                   Destinations                       Food & Drink                       Stay                       Videos                   Sports                   Pro Football                       College Football                       Basketball                       Baseball                       Soccer                       Olympics                       Hockey                   Videos                   Live TV                       Digital Studios                       CNN Films                       HLN                       TV Schedule                       TV Shows A-Z                       CNNVR                   CNN Underscored                   Electronics                       Fashion                       Beauty                       Health & Fitness                       Home                       Reviews                       Deals                       Money                       Gifts                       Travel                       Outdoors                       Pets                       CNN Store                   Coupons               More                   Photos                       Longform                       Investigations                       CNN Profiles                       CNN Leadership                       CNN Newsletters                       Work for CNN                       Police chief says no evidence Nashville shooter had specific problems or issues with school                 CNN CNN CNN CNN CNN CNN CNN CNN CNN CNN CNN CNN CNN CNN CNN CNN CNN  This story contains graphic descriptions of violence.        Metro Nashville Police Chief John Drake said police have met with The Covenant School shooter’s parents and school officials and have yet to uncover any specific issues or problems in the attacker’s past.         “As of right now, we don’t have any indication there was any problems at the school or at home,” Drake told CNN on Wednesday. “We can’t confirm any type of problems at this time.”         The chief’s comments come as police have worked to answer the yet unanswerable: Why did 28-year-old Audrey Hall decide to storm into a private Christian school and murder three children and three adults?         The deadly rampage Monday morning at Covenant lasted about  14 minutes  before the shooter was shot and killed by police. The assailant killed  three 9-year-olds  as well as a custodian, a substitute teacher and the head of the school.         The massacre marked the 19th shooting at a school or university in just the past three months that left at least one person wounded, a CNN count shows. It was among  130 mass shootings this year  in the US with at least four wounded, excluding the shooting, and it was the deadliest US school shooting since last May’s  massacre in Uvalde, Texas, left 21 people dead .    Follow live updates  Austin Anthony/Reuters       Now two days from the shooting, grief-stricken Nashville residents – as well as  first lady Jill Biden  – are expected to unite at  a vigil Wednesday evening  to mourn the victims, including a 9-year-old girl described as “incredibly smart” and a 9-year-old boy noted as “unfailingly kind, gentle.”         A Nashville city councilman also said a witness told him the head of The Covenant School, Katherine Koonce, spent her last moments trying to protect the children in her care.         “The witness said Katherine Koonce was on a Zoom call, heard the shots and abruptly ended the Zoom call and left the office. The assumption from there is that she headed towards the shooter,” Councilman Russ Pulley said. He did not identify the witness.         Drake, the police chief, said he can’t confirm how Koonce died but said, “I do know she was in the hallway by herself. There was a confrontation, I’m sure. You can tell the way she is lying in the hallway.”         A college art instructor who taught the  Nashville school shooter  told CNN the attacker once had an outburst in class and appeared to be “suffering” in social media posts over the past year.         Maria Colomy, the instructor, taught the shooter,  identified by police as Audrey Hale , for two semesters in 2017 at Nossi College of Art & Design in Nashville. On the first day of class, Hale could not figure out how to set up a password, became upset and had to leave the classroom, Colomy told CNN. It was Hale’s only outburst, she said.    From The Covenant School/Covenant Presbyterian Church/Facebook/KMOV/Dieckhaus Family           Colomy described Hale as a small, quiet student and described Hale’s work as “whimsical” and “childlike.”         “I could have seen (Hale) doing children’s books for a living,” Colomy said.         Colomy followed Hale on Facebook, and for the past year Hale’s posts grieved the apparent death of a former girls’ basketball teammate, the instructor said.         “The only thing I would see (Hale) post would be about this girl,” she said.         It was around this time that Hale expressed on Facebook a desire to use he/him pronouns and the name Aiden. Police have said Hale was transgender.         “From what I saw on (Hale’s) social, (Hale) was suffering,” Colomy said.   CNN       In Monday’s attack, the killer targeted the school – which the shooter attended as a child – but it’s believed the victims were fired upon at random, police said. Police have said they do not yet know of a motive but noted the attack was closely planned.          Hale had been  under care for an emotional disorder  and legally bought seven guns in the past three years, keeping them hidden in her home from her parents, Drake said.         Tennessee does not have a “red flag” law that would allow a judge to temporarily seize guns from someone who is believed to be a threat to themselves or others. Even so, Drake said they did not know about Hale’s issues, and there is yet no evidence that Hale was believed to be a threat prior to this week.    John Amis/AP           “Law enforcement was never contacted,” he said. “She was never committed to an institution.”         The shooter is believed to have had weapons training, police spokesperson Don Aaron told CNN.         Drake also said officials are combing through a notebook of writings from Hale to learn more. Hale had written extensively in a personal notebook about the shootings, including  detailed maps  of the school, and had scouted a second possible attack location in Nashville, Drake said.         The attacker was “prepared for confrontation with law enforcement, prepared to do more harm than was actually done,” Drake said Monday.         Hale’s childhood friend told CNN on Tuesday  the killer sent her disturbing messages minutes before the attack , saying “I’m planning to die today” and it would be on the news.         Hale graduated from Nossi College of Art & Design last year, the president of the school confirmed to CNN. Hale worked as a freelance graphic designer and a part-time grocery shopper, a LinkedIn profile says.         Police have referred to Hale as a “female shooter,” and later said Hale was transgender. Hale used male pronouns on a social media profile, a spokesperson told CNN when asked to clarify.   CNN       Bodycam footage from the officers and surveillance video released by police provided a timeline of the attack and response.         Armed with three firearms, the shooter entered the school by firing at glass doors and climbing through to get inside, then walked down the hallways and pointed an assault-style weapon, surveillance video released by Metro Nashville Police shows.         The first call about the shooting came in at 10:13 a.m., and police rushed to the school, arriving at 10:24 a.m., according to the police chief.         Police on Tuesday released body-camera footage from the two officers who opened fire on the shooter after rushing into the school on Monday. The footage shows a group of five officers entered the school amid wailing fire alarms and immediately went into several empty classrooms rooms to look for the suspect.    John Amis/AP           As they cleared the rooms, officers heard gunfire from upstairs and rushed up to the second floor. An officer armed with an assault-style rifle fired multiple times at a person near a large window, who dropped to the ground, the video shows.         Another officer then appeared to shoot the person on the ground four times with a handgun, yelling, “Stop moving!” The officers then approached the person, moved a gun away and radioed, “Suspect down! Suspect down!”         The shooter was dead at 10:27 a.m., police said.         As a private school operated by a church, there was no school resource officer assigned by the city to guard the school, according to Aaron, the police spokesman.         Asked about the roughly 11-minute gap between when police received the first call of an active shooter and when officers arrived at the school, the police chief told reporters, “From what I’ve seen, I don’t have a particular problem with it. But we always want to get better. We always want to get there in 2 or 3 minutes, and so there’s a lot of things that could have happened – traffic was locked down, etc.”         The quick law enforcement response in Nashville stands in notable contrast with the delay in Uvalde of more than an hour before authorities confronted and killed the gunman – a lag that revived a  nationwide conversation  about the use of force during shootings  in public places , especially schools.   From The Covenant School/Covenant Presbyterian Church/Facebook/KMOV/Dieckhaus Family       The victims of the shooting included three 9-year-old students: Evelyn Dieckhaus, William Kinney and Hallie Scruggs, the  daughter of lead church pastor Chad Scruggs .          Hallie’s aunt Kara Arnold said the 9-year-old had “a love for life that kept her smiling and running and jumping and playing and always on the go.”         “To watch her these past 9 years has been a gift and a privilege,”  Arnold wrote on Facebook . “I have often longed for a daughter and Hallie embodied all of those things I’d want in my own little girl.”         She said Hallie and her son Chip were almost the same age and were very close.         “When they were together no one else existed and we would rarely know where they were or what they were up to,” she wrote, adding that they were usually involved in some sort of mischief.         “She was incredibly smart, feisty enough to keep up with her 3 brothers and my 4 boys, a love for life that kept her smiling and running and jumping and playing and always on the go,” Arnold wrote.         Arnold told CNN that she is on her way to Nashville to be with her brother and sister-in-law.    Mark Zaleski/USA Today Network/Reuters           “I don’t have the words to address this tragedy. I’m in shock and my boys and Adam and I can’t even comprehend that she’s gone,” she wrote. “We are grieving so deeply. And for my brother and sister in law and my nephews who are living the most unspeakable nightmare. We hurt with you and wish we could take your hurt away.”         William, another of the children killed, had an “unflappable spirit,” friends of the Kinney family shared on GoFundMe.         “He was unfailingly kind, gentle when the situation called for it, quick to laugh, and always inclusive of others,” they wrote.         Will had two sisters and enjoyed spending time with his family and friends. “Our hearts are broken for his family as they try to find their way forward,” the friends said.         Evelyn’s family appreciates all the love and support they’ve received and are asking for space as they grieve, according to a family statement obtained by CNN affiliate KMOV.         “Our hearts are completely broken. We cannot believe this has happened,” the statement said. “Evelyn was a shining light in this world.”         The adults killed in addition to Koonce, 60, were Cynthia Peak, 61, a substitute teacher, and Mike Hill, a 61-year-old custodian, police said.         Peak was best friends with Tennessee First Lady Maria Lee and was supposed to go to the Lees’ home for dinner Monday evening, Tennessee Gov. Bill Lee said in a video statement Tuesday.          “Maria woke up this morning without one of her best friends, Cindy Peak,” the governor said. “Cindy and Maria and Katherine Koonce were all teachers at the same school and have been family friends for decades.”         Hill was a father of seven children and grandfather to 14 who loved to cook and spend time with his family, his family  said  in a statement obtained by CNN affiliate  WSMV . Evelyn’s family  called her  “a shining light in this world.”         The city has set up a  fund  to help support the survivors of the shooting, Mayor John Cooper said.      CNN’s Melissa Alonso, Mark Morales, Amara Walker, Dianne Gallagher, Tina Burnside, Amanda Jackson, Sara Smart, David Williams, Jillian Sykes, Jamiel Lynch, Holly Yan and Michelle Krupa contributed to this report.                                       Settings                   Log Out                 Live TV               Audio               US                   Crime + Justice                       Energy + Environment                       Extreme Weather                       Space + Science                   World                   Africa                       Americas                       Asia                       Australia                       China                       Europe                       India                       Middle East                       United Kingdom                   Politics                   The Biden Presidency                       Facts First                       US Elections                   Business                   Tech                       Media                       Success                       Perspectives                       Videos                   Markets                   Pre-markets                       After-Hours                       Market Movers                       Fear & Greed                       World Markets                       Investing                       Markets Now                       Before the Bell                       Nightcap                   Opinion                   Political Op-Eds                       Social Commentary                   Health                   Life, But Better                       Fitness                       Food                       Sleep                       Mindfulness                       Relationships                   Entertainment                   Movies                       Television                       Celebrity                   Tech                   Innovate                       Gadget                       Foreseeable Future                       Mission: Ahead                       Upstarts                       Work Transformed                       Innovative Cities                   Style                   Arts                       Design                       Fashion                       Architecture                       Luxury                       Beauty                       Video                   Travel                   Destinations                       Food & Drink                       Stay                       News                       Videos                   Sports                   Pro Football                       College Football                       Basketball                       Baseball                       Soccer                       Olympics                       Hockey                   Videos                   Live TV                       Digital Studios                       CNN Films                       HLN                       TV Schedule                       TV Shows A-Z                       CNNVR                   Audio               CNN Underscored                   Electronics                       Fashion                       Beauty                       Health & Fitness                       Home                       Reviews                       Deals                       Money                       Gifts                       Travel                       Outdoors                       Pets                       CNN Store                   Coupons               Weather                   Climate                       Storm Tracker                       Wildfire Tracker                       Video                   More                   Photos                       Longform                       Investigations                       CNN Profiles                       CNN Leadership                       CNN Newsletters                       Work for CNN                           Audio                       Live TV                           Settings                   Log Out                   Terms of Use                   Privacy Policy                    Ad Choices                   Accessibility & CC                   About                   Newsletters                   Transcripts         © 2023 Cable News Network. A Warner Bros. Discovery Company. All Rights Reserved.   CNN Sans ™ & © 2016 Cable News Network. '\n",
    "'''"
   ]
  },
  {
   "cell_type": "code",
   "execution_count": 24,
   "id": "dd031893",
   "metadata": {},
   "outputs": [
    {
     "name": "stderr",
     "output_type": "stream",
     "text": [
      "<ipython-input-21-b49082471f61>:17: FutureWarning: The default value of regex will change from True to False in a future version.\n",
      "  clean_sentences = pd.Series(sentences).str.replace(\"[^a-zA-Z]\", \" \")\n"
     ]
    },
    {
     "name": "stdout",
     "output_type": "stream",
     "text": [
      "SUMMARY:\n",
      "“We can’t confirm any type of problems at this time.”         The chief’s comments come as police have worked to answer the yet unanswerable: Why did 28-year-old Audrey Hall decide to storm into a private Christian school and murder three children and three adults?\n",
      "Follow live updates  Austin Anthony/Reuters       Now two days from the shooting, grief-stricken Nashville residents – as well as  first lady Jill Biden  – are expected to unite at  a vigil Wednesday evening  to mourn the victims, including a 9-year-old girl described as “incredibly smart” and a 9-year-old boy noted as “unfailingly kind, gentle.”         A Nashville city councilman also said a witness told him the head of The Covenant School, Katherine Koonce, spent her last moments trying to protect the children in her care.\n",
      "Metro Nashville Police Chief John Drake said police have met with The Covenant School shooter’s parents and school officials and have yet to uncover any specific issues or problems in the attacker’s past.\n",
      "Asked about the roughly 11-minute gap between when police received the first call of an active shooter and when officers arrived at the school, the police chief told reporters, “From what I’ve seen, I don’t have a particular problem with it.\n",
      "Evelyn’s family  called her  “a shining light in this world.”         The city has set up a  fund  to help support the survivors of the shooting, Mayor John Cooper said.\n"
     ]
    }
   ],
   "source": [
    "summary_n(text_new,5)"
   ]
  }
 ],
 "metadata": {
  "kernelspec": {
   "display_name": "Python 3",
   "language": "python",
   "name": "python3"
  },
  "language_info": {
   "codemirror_mode": {
    "name": "ipython",
    "version": 3
   },
   "file_extension": ".py",
   "mimetype": "text/x-python",
   "name": "python",
   "nbconvert_exporter": "python",
   "pygments_lexer": "ipython3",
   "version": "3.8.16"
  }
 },
 "nbformat": 4,
 "nbformat_minor": 5
}
